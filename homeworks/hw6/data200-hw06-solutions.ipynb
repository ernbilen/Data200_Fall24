{
 "cells": [
  {
   "cell_type": "markdown",
   "metadata": {},
   "source": [
    "# Data 200: Database Systems and Data Management for Data Analytics\n"
   ]
  },
  {
   "cell_type": "markdown",
   "metadata": {},
   "source": [
    "# Homework 6: Inner and Outer Joins in SQL\n",
    "\n",
    "\n",
    "---\n",
    "Enter your name in the markdown cell below."
   ]
  },
  {
   "cell_type": "markdown",
   "metadata": {},
   "source": [
    "# Name: Answer Key"
   ]
  },
  {
   "cell_type": "markdown",
   "metadata": {},
   "source": [
    "# Homework Grade: 100%"
   ]
  },
  {
   "cell_type": "markdown",
   "metadata": {},
   "source": [
    "# Exercises"
   ]
  },
  {
   "cell_type": "markdown",
   "metadata": {},
   "source": [
    "\n",
    "\n",
    "**Download the `school.db` database from Teams and save it to the same directory as this notebook.**\n",
    "\n",
    "**Then, run the code cells below to load the SQL Magic module and connect to the `school.db` database.**"
   ]
  },
  {
   "cell_type": "code",
   "execution_count": 4,
   "metadata": {},
   "outputs": [],
   "source": [
    "%load_ext sql"
   ]
  },
  {
   "cell_type": "code",
   "execution_count": 5,
   "metadata": {},
   "outputs": [],
   "source": [
    "%sql sqlite:///school.db"
   ]
  },
  {
   "cell_type": "markdown",
   "metadata": {},
   "source": [
    "<div class=\"exercise\"><b>Exercise 1:</b></div> \n",
    "\n",
    "Write a query to obtain the department chairs for Modern Language (`'LANG'`), Philosophy (`'PHIL'`), and Mathematics and Computer Science (`'MATH'`).  Note that you will need to use an inner join of the `departments` and `instructors` tables.  Project the department name, the chair's last name, and the chair's first name.\n",
    "\n",
    "Below is the output from my solution:<br>\n",
    "<code>\n",
    "departmentname\t              instructorlast\tinstructorfirst\n",
    "Modern Language\t             Brown\t         Danielle\n",
    "Mathematics & Computer Science  Bradley       \tBetty\n",
    "Philosophy\t                  Singhal\t       Aarav\n",
    "</code>"
   ]
  },
  {
   "cell_type": "code",
   "execution_count": 6,
   "metadata": {},
   "outputs": [
    {
     "name": "stdout",
     "output_type": "stream",
     "text": [
      " * sqlite:///school.db\n",
      "Done.\n"
     ]
    },
    {
     "data": {
      "text/html": [
       "<table>\n",
       "    <tr>\n",
       "        <th>departmentname</th>\n",
       "        <th>instructorlast</th>\n",
       "        <th>instructorfirst</th>\n",
       "    </tr>\n",
       "    <tr>\n",
       "        <td>Modern Language</td>\n",
       "        <td>Brown</td>\n",
       "        <td>Danielle</td>\n",
       "    </tr>\n",
       "    <tr>\n",
       "        <td>Mathematics &amp; Computer Science</td>\n",
       "        <td>Bradley</td>\n",
       "        <td>Betty</td>\n",
       "    </tr>\n",
       "    <tr>\n",
       "        <td>Philosophy</td>\n",
       "        <td>Singhal</td>\n",
       "        <td>Aarav</td>\n",
       "    </tr>\n",
       "</table>"
      ],
      "text/plain": [
       "[('Modern Language', 'Brown', 'Danielle'),\n",
       " ('Mathematics & Computer Science', 'Bradley', 'Betty'),\n",
       " ('Philosophy', 'Singhal', 'Aarav')]"
      ]
     },
     "execution_count": 6,
     "metadata": {},
     "output_type": "execute_result"
    }
   ],
   "source": [
    "%%sql\n",
    "\n",
    "SELECT departmentname, instructorlast, instructorfirst\n",
    "FROM departments INNER JOIN instructors \n",
    "ON departments.departmentchair = instructors.instructorid\n",
    "WHERE departments.departmentid IN ('LANG', 'PHIL','MATH')"
   ]
  },
  {
   "cell_type": "markdown",
   "metadata": {},
   "source": [
    "<div class=\"exercise\"><b>Exercise 2:</b></div> \n",
    "\n",
    "Write a query to list all of the students who are mathematics (`'MATH'`) majors.  Include the student's last and first name, along with the name of the department.  Order the results by last name, first name.  Limit the results to 6 rows.  Note that you will need to use an inner join on the `students` and `subjects` tables.\n",
    "\n",
    "Below is the output from my solution:<br>\n",
    "<code>\n",
    "studentlast\tstudentfirst\tsubjectname\n",
    "Barnett\t    Larry\t       Mathematics\n",
    "Campbell\t   Gloria\t      Mathematics\n",
    "Chapman\t    Robert\t      Mathematics\n",
    "Colombo\t    Giulia\t      Mathematics\n",
    "Davis\t      Crystal\t     Mathematics\n",
    "Edwards    \tGary\t        Mathematics\n",
    "</code>"
   ]
  },
  {
   "cell_type": "code",
   "execution_count": 7,
   "metadata": {},
   "outputs": [
    {
     "name": "stdout",
     "output_type": "stream",
     "text": [
      " * sqlite:///school.db\n",
      "Done.\n"
     ]
    },
    {
     "data": {
      "text/html": [
       "<table>\n",
       "    <tr>\n",
       "        <th>studentlast</th>\n",
       "        <th>studentfirst</th>\n",
       "        <th>subjectname</th>\n",
       "    </tr>\n",
       "    <tr>\n",
       "        <td>Barnett</td>\n",
       "        <td>Larry</td>\n",
       "        <td>Mathematics</td>\n",
       "    </tr>\n",
       "    <tr>\n",
       "        <td>Campbell</td>\n",
       "        <td>Gloria</td>\n",
       "        <td>Mathematics</td>\n",
       "    </tr>\n",
       "    <tr>\n",
       "        <td>Chapman</td>\n",
       "        <td>Robert</td>\n",
       "        <td>Mathematics</td>\n",
       "    </tr>\n",
       "    <tr>\n",
       "        <td>Colombo</td>\n",
       "        <td>Giulia</td>\n",
       "        <td>Mathematics</td>\n",
       "    </tr>\n",
       "    <tr>\n",
       "        <td>Davis</td>\n",
       "        <td>Crystal</td>\n",
       "        <td>Mathematics</td>\n",
       "    </tr>\n",
       "    <tr>\n",
       "        <td>Edwards</td>\n",
       "        <td>Gary</td>\n",
       "        <td>Mathematics</td>\n",
       "    </tr>\n",
       "</table>"
      ],
      "text/plain": [
       "[('Barnett', 'Larry', 'Mathematics'),\n",
       " ('Campbell', 'Gloria', 'Mathematics'),\n",
       " ('Chapman', 'Robert', 'Mathematics'),\n",
       " ('Colombo', 'Giulia', 'Mathematics'),\n",
       " ('Davis', 'Crystal', 'Mathematics'),\n",
       " ('Edwards', 'Gary', 'Mathematics')]"
      ]
     },
     "execution_count": 7,
     "metadata": {},
     "output_type": "execute_result"
    }
   ],
   "source": [
    "%%sql\n",
    "\n",
    "SELECT studentlast, studentfirst, subjectname\n",
    "FROM students INNER JOIN subjects \n",
    "ON studentmajor = subjectid\n",
    "WHERE studentmajor = 'MATH'\n",
    "ORDER BY studentlast, studentfirst\n",
    "LIMIT 6"
   ]
  },
  {
   "cell_type": "markdown",
   "metadata": {},
   "source": [
    "<div class=\"exercise\"><b>Exercise 3:</b></div> \n",
    "\n",
    "Write a query to list all of the students who are taking Math 123-03 in the fall (this corresponds to `classid=40326`). Please use a `USING` clause on `studentid` (to give you practice with it).  Order the results by last name, first name.  Limit the results to 6 rows.  \n",
    "\n",
    "Below is the output from my solution:<br>\n",
    "<code>\n",
    "studentlast\tstudentfirst\n",
    "Brewer\t     Scott\n",
    "Castillo\t   Stephen\n",
    "Chapman\t    Robert\n",
    "Coleman\t    Billy\n",
    "Dunn\t       Diane\n",
    "Fox\t        Luke\n",
    "</code>"
   ]
  },
  {
   "cell_type": "code",
   "execution_count": 8,
   "metadata": {},
   "outputs": [
    {
     "name": "stdout",
     "output_type": "stream",
     "text": [
      " * sqlite:///school.db\n",
      "Done.\n"
     ]
    },
    {
     "data": {
      "text/html": [
       "<table>\n",
       "    <tr>\n",
       "        <th>studentlast</th>\n",
       "        <th>studentfirst</th>\n",
       "    </tr>\n",
       "    <tr>\n",
       "        <td>Brewer</td>\n",
       "        <td>Scott</td>\n",
       "    </tr>\n",
       "    <tr>\n",
       "        <td>Castillo</td>\n",
       "        <td>Stephen</td>\n",
       "    </tr>\n",
       "    <tr>\n",
       "        <td>Chapman</td>\n",
       "        <td>Robert</td>\n",
       "    </tr>\n",
       "    <tr>\n",
       "        <td>Coleman</td>\n",
       "        <td>Billy</td>\n",
       "    </tr>\n",
       "    <tr>\n",
       "        <td>Dunn</td>\n",
       "        <td>Diane</td>\n",
       "    </tr>\n",
       "    <tr>\n",
       "        <td>Fox</td>\n",
       "        <td>Luke</td>\n",
       "    </tr>\n",
       "</table>"
      ],
      "text/plain": [
       "[('Brewer', 'Scott'),\n",
       " ('Castillo', 'Stephen'),\n",
       " ('Chapman', 'Robert'),\n",
       " ('Coleman', 'Billy'),\n",
       " ('Dunn', 'Diane'),\n",
       " ('Fox', 'Luke')]"
      ]
     },
     "execution_count": 8,
     "metadata": {},
     "output_type": "execute_result"
    }
   ],
   "source": [
    "%%sql\n",
    "\n",
    "SELECT studentlast, studentfirst\n",
    "FROM students INNER JOIN student_class\n",
    "USING (studentid)\n",
    "WHERE classid = 40326\n",
    "ORDER BY studentlast,studentfirst\n",
    "limit 6"
   ]
  },
  {
   "cell_type": "markdown",
   "metadata": {},
   "source": [
    "<div class=\"exercise\"><b>Exercise 4:</b></div> \n",
    "\n",
    "Write a query to find which instructors (last and first names) are teaching in the spring semester.  Your result should not contain any duplicates.  Order the results by last name, first name.  Limit the results to 10 rows. **Hint:** You will need to use a three-table join of the `classes`, `instructor_class`, and `instructors` tables.\n",
    "\n",
    "Below is the output from my solution:<br>\n",
    "<code>\n",
    "instructorlast\tinstructorfirst\n",
    "Aguilar\t       Stephen\n",
    "Anderson\t      Philip\n",
    "Arnaud\t        Antoine\n",
    "Austin\t        Stephanie\n",
    "Bailey\t        Jayden\n",
    "Balasubramanium   Hemant\n",
    "Balasubramanium   Vishal\n",
    "Banks\t         Carolyn\n",
    "Banks\t         David\n",
    "Barnes   \t     Deborah\n",
    "</code>"
   ]
  },
  {
   "cell_type": "code",
   "execution_count": 9,
   "metadata": {},
   "outputs": [
    {
     "name": "stdout",
     "output_type": "stream",
     "text": [
      " * sqlite:///school.db\n",
      "Done.\n"
     ]
    },
    {
     "data": {
      "text/html": [
       "<table>\n",
       "    <tr>\n",
       "        <th>instructorlast</th>\n",
       "        <th>instructorfirst</th>\n",
       "    </tr>\n",
       "    <tr>\n",
       "        <td>Aguilar</td>\n",
       "        <td>Stephen</td>\n",
       "    </tr>\n",
       "    <tr>\n",
       "        <td>Anderson</td>\n",
       "        <td>Philip</td>\n",
       "    </tr>\n",
       "    <tr>\n",
       "        <td>Arnaud</td>\n",
       "        <td>Antoine</td>\n",
       "    </tr>\n",
       "    <tr>\n",
       "        <td>Austin</td>\n",
       "        <td>Stephanie</td>\n",
       "    </tr>\n",
       "    <tr>\n",
       "        <td>Bailey</td>\n",
       "        <td>Jayden</td>\n",
       "    </tr>\n",
       "    <tr>\n",
       "        <td>Balasubramanium</td>\n",
       "        <td>Hemant</td>\n",
       "    </tr>\n",
       "    <tr>\n",
       "        <td>Balasubramanium</td>\n",
       "        <td>Vishal</td>\n",
       "    </tr>\n",
       "    <tr>\n",
       "        <td>Banks</td>\n",
       "        <td>Carolyn</td>\n",
       "    </tr>\n",
       "    <tr>\n",
       "        <td>Banks</td>\n",
       "        <td>David</td>\n",
       "    </tr>\n",
       "    <tr>\n",
       "        <td>Barnes</td>\n",
       "        <td>Deborah</td>\n",
       "    </tr>\n",
       "</table>"
      ],
      "text/plain": [
       "[('Aguilar', 'Stephen'),\n",
       " ('Anderson', 'Philip'),\n",
       " ('Arnaud', 'Antoine'),\n",
       " ('Austin', 'Stephanie'),\n",
       " ('Bailey', 'Jayden'),\n",
       " ('Balasubramanium', 'Hemant'),\n",
       " ('Balasubramanium', 'Vishal'),\n",
       " ('Banks', 'Carolyn'),\n",
       " ('Banks', 'David'),\n",
       " ('Barnes', 'Deborah')]"
      ]
     },
     "execution_count": 9,
     "metadata": {},
     "output_type": "execute_result"
    }
   ],
   "source": [
    "%%sql\n",
    "\n",
    "SELECT DISTINCT instructorlast, instructorfirst\n",
    "FROM classes INNER JOIN instructor_class USING (classid)\n",
    "INNER JOIN instructors USING (instructorid)\n",
    "WHERE classterm ='SPRING'\n",
    "ORDER BY instructorlast, instructorfirst\n",
    "LIMIT 10"
   ]
  },
  {
   "cell_type": "markdown",
   "metadata": {},
   "source": [
    "<div class=\"exercise\"><b>Exercise 5:</b></div> \n",
    "\n",
    "Write a query to list all courses (subject and number) that were *not* taught in either the fall or spring semesters.  **Hint:** Recall that LEFT JOIN can be used to compute *set differences*.  In particular, you will need to use a left join of the `courses` and `classes` tables.  Furthermore, in order to match up the course subject and number, you may want to use `USING (coursesubject, coursenum)`. Order your results by the course subject and limit your results to six rows.\n",
    "\n",
    "The output from my solution is:<br>\n",
    "<code>\n",
    "coursesubject\tcoursenum\n",
    "ARTH\t         363\n",
    "ARTH\t         452\n",
    "BIOL\t         363\n",
    "BIOL\t         364\n",
    "BLST\t         265\n",
    "BLST\t         361\n",
    "</code>"
   ]
  },
  {
   "cell_type": "code",
   "execution_count": 10,
   "metadata": {},
   "outputs": [
    {
     "name": "stdout",
     "output_type": "stream",
     "text": [
      " * sqlite:///school.db\n",
      "Done.\n"
     ]
    },
    {
     "data": {
      "text/html": [
       "<table>\n",
       "    <tr>\n",
       "        <th>coursesubject</th>\n",
       "        <th>coursenum</th>\n",
       "    </tr>\n",
       "    <tr>\n",
       "        <td>ARTH</td>\n",
       "        <td>363</td>\n",
       "    </tr>\n",
       "    <tr>\n",
       "        <td>ARTH</td>\n",
       "        <td>452</td>\n",
       "    </tr>\n",
       "    <tr>\n",
       "        <td>BIOL</td>\n",
       "        <td>363</td>\n",
       "    </tr>\n",
       "    <tr>\n",
       "        <td>BIOL</td>\n",
       "        <td>364</td>\n",
       "    </tr>\n",
       "    <tr>\n",
       "        <td>BLST</td>\n",
       "        <td>265</td>\n",
       "    </tr>\n",
       "    <tr>\n",
       "        <td>BLST</td>\n",
       "        <td>361</td>\n",
       "    </tr>\n",
       "</table>"
      ],
      "text/plain": [
       "[('ARTH', 363),\n",
       " ('ARTH', 452),\n",
       " ('BIOL', 363),\n",
       " ('BIOL', 364),\n",
       " ('BLST', 265),\n",
       " ('BLST', 361)]"
      ]
     },
     "execution_count": 10,
     "metadata": {},
     "output_type": "execute_result"
    }
   ],
   "source": [
    "%%sql\n",
    "\n",
    "SELECT coursesubject, coursenum \n",
    "FROM courses \n",
    "LEFT JOIN classes USING (coursesubject, coursenum)\n",
    "WHERE classid IS NULL\n",
    "ORDER BY coursesubject\n",
    "LIMIT 6"
   ]
  },
  {
   "cell_type": "markdown",
   "metadata": {},
   "source": [
    "<div class=\"exercise\"><b>Exercise 6:</b></div> \n",
    "\n",
    "Write a query to find all English courses (subject, number, and title) that were *not* offered in either the fall or spring semesters.  *This is very similar to the previous exercise*.\n",
    "\n",
    "The output from my solution is:<br>\n",
    "<code>\n",
    "coursesubject\tcoursenum\tcoursetitle\n",
    "ENGL\t         340\t      Contemporary Drama\n",
    "ENGL\t         349\t      Studies in European Lit\n",
    "</code>"
   ]
  },
  {
   "cell_type": "code",
   "execution_count": 11,
   "metadata": {},
   "outputs": [
    {
     "name": "stdout",
     "output_type": "stream",
     "text": [
      " * sqlite:///school.db\n",
      "Done.\n"
     ]
    },
    {
     "data": {
      "text/html": [
       "<table>\n",
       "    <tr>\n",
       "        <th>coursesubject</th>\n",
       "        <th>coursenum</th>\n",
       "        <th>coursetitle</th>\n",
       "    </tr>\n",
       "    <tr>\n",
       "        <td>ENGL</td>\n",
       "        <td>340</td>\n",
       "        <td>Contemporary Drama</td>\n",
       "    </tr>\n",
       "    <tr>\n",
       "        <td>ENGL</td>\n",
       "        <td>349</td>\n",
       "        <td>Studies in European Lit</td>\n",
       "    </tr>\n",
       "</table>"
      ],
      "text/plain": [
       "[('ENGL', 340, 'Contemporary Drama'), ('ENGL', 349, 'Studies in European Lit')]"
      ]
     },
     "execution_count": 11,
     "metadata": {},
     "output_type": "execute_result"
    }
   ],
   "source": [
    "%%sql\n",
    "\n",
    "SELECT coursesubject, coursenum, coursetitle\n",
    "FROM courses\n",
    "LEFT JOIN classes USING (coursesubject, coursenum)\n",
    "WHERE classid IS NULL AND coursesubject = 'ENGL'"
   ]
  },
  {
   "cell_type": "markdown",
   "metadata": {},
   "source": [
    "<div class=\"exercise\"><b>Exercise 7:</b></div> \n",
    "\n",
    "Write a query to list instructors (first and last names) and the *number of students* they taught during the year (both fall and spring semesters).  Only include instructors who were actually teaching.  Please name the new column `total_taught` and order your results from smallest to largest.  Limit the results to 10 rows. **Hint:** You will need to join three different tables and use a GROUP BY to accomplish this task.\n",
    "\n",
    "The output from my solution is:<br>\n",
    "<code>\n",
    "instructorfirst\tinstructorlast\ttotal_taught\n",
    "Margaux\t        Gillet            1\n",
    "Lisa\t           Fuller\t        1\n",
    "Bobby\t          Hall\t          1\n",
    "Harrison\t       Gray\t          1\n",
    "Aarav\t          Jhadav\t        2\n",
    "Kyle\t           Stevens\t       4\n",
    "Rose\t           James\t         5\n",
    "Philip\t         Anderson\t      7\n",
    "Paul\t           Dixon\t         7\n",
    "Michelle\t       Young\t         8\n",
    "</code>"
   ]
  },
  {
   "cell_type": "code",
   "execution_count": 12,
   "metadata": {},
   "outputs": [
    {
     "name": "stdout",
     "output_type": "stream",
     "text": [
      " * sqlite:///school.db\n",
      "Done.\n"
     ]
    },
    {
     "data": {
      "text/html": [
       "<table>\n",
       "    <tr>\n",
       "        <th>instructorfirst</th>\n",
       "        <th>instructorlast</th>\n",
       "        <th>total_taught</th>\n",
       "    </tr>\n",
       "    <tr>\n",
       "        <td>Margaux</td>\n",
       "        <td>Gillet</td>\n",
       "        <td>1</td>\n",
       "    </tr>\n",
       "    <tr>\n",
       "        <td>Lisa</td>\n",
       "        <td>Fuller</td>\n",
       "        <td>1</td>\n",
       "    </tr>\n",
       "    <tr>\n",
       "        <td>Bobby</td>\n",
       "        <td>Hall</td>\n",
       "        <td>1</td>\n",
       "    </tr>\n",
       "    <tr>\n",
       "        <td>Harrison</td>\n",
       "        <td>Gray</td>\n",
       "        <td>1</td>\n",
       "    </tr>\n",
       "    <tr>\n",
       "        <td>Aarav</td>\n",
       "        <td>Jhadav</td>\n",
       "        <td>2</td>\n",
       "    </tr>\n",
       "    <tr>\n",
       "        <td>Kyle</td>\n",
       "        <td>Stevens</td>\n",
       "        <td>4</td>\n",
       "    </tr>\n",
       "    <tr>\n",
       "        <td>Rose</td>\n",
       "        <td>James</td>\n",
       "        <td>5</td>\n",
       "    </tr>\n",
       "    <tr>\n",
       "        <td>Philip</td>\n",
       "        <td>Anderson</td>\n",
       "        <td>7</td>\n",
       "    </tr>\n",
       "    <tr>\n",
       "        <td>Paul</td>\n",
       "        <td>Dixon</td>\n",
       "        <td>7</td>\n",
       "    </tr>\n",
       "    <tr>\n",
       "        <td>Michelle</td>\n",
       "        <td>Young</td>\n",
       "        <td>8</td>\n",
       "    </tr>\n",
       "</table>"
      ],
      "text/plain": [
       "[('Margaux', 'Gillet', 1),\n",
       " ('Lisa', 'Fuller', 1),\n",
       " ('Bobby', 'Hall', 1),\n",
       " ('Harrison', 'Gray', 1),\n",
       " ('Aarav', 'Jhadav', 2),\n",
       " ('Kyle', 'Stevens', 4),\n",
       " ('Rose', 'James', 5),\n",
       " ('Philip', 'Anderson', 7),\n",
       " ('Paul', 'Dixon', 7),\n",
       " ('Michelle', 'Young', 8)]"
      ]
     },
     "execution_count": 12,
     "metadata": {},
     "output_type": "execute_result"
    }
   ],
   "source": [
    "%%sql\n",
    "\n",
    "SELECT  instructorfirst, instructorlast, COUNT(studentid) AS total_taught \n",
    "FROM instructors \n",
    "INNER JOIN instructor_class USING (instructorid)\n",
    "INNER JOIN student_class USING (classid)\n",
    "GROUP BY instructorid\n",
    "ORDER BY count(studentid) ASC\n",
    "LIMIT 10"
   ]
  },
  {
   "cell_type": "markdown",
   "metadata": {},
   "source": [
    "<div class=\"exercise\"><b>Exercise 8:</b></div> \n",
    "\n",
    "Note that in the last exercise we learned that the instructor Kyle Stevens only taught a total of 4 students during the year (which is strange--let's investigate).  Write a query to list the student IDs of these four students, along with the course subject, course number, and course title.  **Hint 1:** In my solution, I joined together five different tables (using four INNER JOIN statements)!  **Hint 2:** You may want to first see if you can list the course subject, course number, and student ID.  Then join the fifth table to get the course title.  That is, sometimes it's easier to build your query in stages to make it more manageable.\n",
    "\n",
    "The output from my solution is (we can see that Kyle only taught senior research and directed studies):<br>\n",
    "<code>\n",
    "coursesubject\tcoursenum\tcoursetitle\t   studentid\n",
    "BIOL\t         452\t      Senior Research   61724\n",
    "BIOL\t         451\t      Senior Research   61724\n",
    "BIOL\t         362\t      Directed Study    62419\n",
    "BIOL\t         362\t      Directed Study    62925\n",
    "</code>"
   ]
  },
  {
   "cell_type": "code",
   "execution_count": 13,
   "metadata": {},
   "outputs": [
    {
     "name": "stdout",
     "output_type": "stream",
     "text": [
      " * sqlite:///school.db\n",
      "Done.\n"
     ]
    },
    {
     "data": {
      "text/html": [
       "<table>\n",
       "    <tr>\n",
       "        <th>coursesubject</th>\n",
       "        <th>coursenum</th>\n",
       "        <th>coursetitle</th>\n",
       "        <th>studentid</th>\n",
       "    </tr>\n",
       "    <tr>\n",
       "        <td>BIOL</td>\n",
       "        <td>452</td>\n",
       "        <td>Senior Research</td>\n",
       "        <td>61724</td>\n",
       "    </tr>\n",
       "    <tr>\n",
       "        <td>BIOL</td>\n",
       "        <td>451</td>\n",
       "        <td>Senior Research</td>\n",
       "        <td>61724</td>\n",
       "    </tr>\n",
       "    <tr>\n",
       "        <td>BIOL</td>\n",
       "        <td>362</td>\n",
       "        <td>Directed Study</td>\n",
       "        <td>62419</td>\n",
       "    </tr>\n",
       "    <tr>\n",
       "        <td>BIOL</td>\n",
       "        <td>362</td>\n",
       "        <td>Directed Study</td>\n",
       "        <td>62925</td>\n",
       "    </tr>\n",
       "</table>"
      ],
      "text/plain": [
       "[('BIOL', 452, 'Senior Research', 61724),\n",
       " ('BIOL', 451, 'Senior Research', 61724),\n",
       " ('BIOL', 362, 'Directed Study', 62419),\n",
       " ('BIOL', 362, 'Directed Study', 62925)]"
      ]
     },
     "execution_count": 13,
     "metadata": {},
     "output_type": "execute_result"
    }
   ],
   "source": [
    "%%sql\n",
    "\n",
    "SELECT courses.coursesubject, courses.coursenum, courses.coursetitle, studentid\n",
    "FROM instructors \n",
    "INNER JOIN instructor_class USING (instructorid)\n",
    "INNER JOIN student_class USING (classid)\n",
    "INNER JOIN classes USING (classid)\n",
    "INNER JOIN courses USING (coursesubject, coursenum)\n",
    "WHERE instructorfirst = 'Kyle' AND instructorlast= 'Stevens'"
   ]
  }
 ],
 "metadata": {
  "celltoolbar": "Raw Cell Format",
  "kernelspec": {
   "display_name": "Python 3 (ipykernel)",
   "language": "python",
   "name": "python3"
  },
  "language_info": {
   "codemirror_mode": {
    "name": "ipython",
    "version": 3
   },
   "file_extension": ".py",
   "mimetype": "text/x-python",
   "name": "python",
   "nbconvert_exporter": "python",
   "pygments_lexer": "ipython3",
   "version": "3.9.13"
  }
 },
 "nbformat": 4,
 "nbformat_minor": 2
}
