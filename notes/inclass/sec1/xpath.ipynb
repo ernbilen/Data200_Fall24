{
 "cells": [
  {
   "cell_type": "code",
   "execution_count": 11,
   "id": "ab1be3e9",
   "metadata": {},
   "outputs": [],
   "source": [
    "from lxml import etree\n",
    "import os"
   ]
  },
  {
   "cell_type": "code",
   "execution_count": 36,
   "id": "a7244b2d",
   "metadata": {},
   "outputs": [],
   "source": [
    "def getLocalXML(filename,datadir='.'):\n",
    "    xmlPath = os.path.join(datadir,filename)\n",
    "    tree = etree.parse(xmlPath)\n",
    "    root = tree.getroot()\n",
    "    return(root)"
   ]
  },
  {
   "cell_type": "code",
   "execution_count": 35,
   "id": "6f159361",
   "metadata": {},
   "outputs": [
    {
     "name": "stdout",
     "output_type": "stream",
     "text": [
      "ind2\n"
     ]
    }
   ],
   "source": [
    "myroot = getLocalXML('ind2.xml','C:/Users/bilene/Downloads')"
   ]
  },
  {
   "cell_type": "code",
   "execution_count": 38,
   "id": "0eb7542f",
   "metadata": {},
   "outputs": [
    {
     "ename": "TypeError",
     "evalue": "'in <string>' requires string as left operand, not NoneType",
     "output_type": "error",
     "traceback": [
      "\u001b[1;31m---------------------------------------------------------------------------\u001b[0m",
      "\u001b[1;31mTypeError\u001b[0m                                 Traceback (most recent call last)",
      "\u001b[1;32m~\\AppData\\Local\\Temp\\ipykernel_20768\\3469303184.py\u001b[0m in \u001b[0;36m<cell line: 1>\u001b[1;34m()\u001b[0m\n\u001b[1;32m----> 1\u001b[1;33m \u001b[0mmyroot\u001b[0m\u001b[1;33m.\u001b[0m\u001b[0mfindall\u001b[0m\u001b[1;33m(\u001b[0m\u001b[1;34m'xpath'\u001b[0m\u001b[1;33m,\u001b[0m \u001b[1;34m'/ind2/FRA/y2007/pop'\u001b[0m\u001b[1;33m)\u001b[0m\u001b[1;33m\u001b[0m\u001b[1;33m\u001b[0m\u001b[0m\n\u001b[0m",
      "\u001b[1;32msrc/lxml/etree.pyx\u001b[0m in \u001b[0;36mlxml.etree._Element.findall\u001b[1;34m()\u001b[0m\n",
      "\u001b[1;32mC:\\Program Files\\ArcGIS\\Pro\\bin\\Python\\envs\\arcgispro-py3\\lib\\site-packages\\lxml\\_elementpath.cp39-win_amd64.pyd\u001b[0m in \u001b[0;36mlxml._elementpath.findall\u001b[1;34m()\u001b[0m\n",
      "\u001b[1;32mC:\\Program Files\\ArcGIS\\Pro\\bin\\Python\\envs\\arcgispro-py3\\lib\\site-packages\\lxml\\_elementpath.cp39-win_amd64.pyd\u001b[0m in \u001b[0;36mlxml._elementpath.iterfind\u001b[1;34m()\u001b[0m\n",
      "\u001b[1;32mC:\\Program Files\\ArcGIS\\Pro\\bin\\Python\\envs\\arcgispro-py3\\lib\\site-packages\\lxml\\_elementpath.cp39-win_amd64.pyd\u001b[0m in \u001b[0;36mlxml._elementpath._build_path_iterator\u001b[1;34m()\u001b[0m\n",
      "\u001b[1;31mTypeError\u001b[0m: 'in <string>' requires string as left operand, not NoneType"
     ]
    }
   ],
   "source": [
    "myroot.findall('xpath', '/ind2/FRA/y2007/pop')"
   ]
  },
  {
   "cell_type": "code",
   "execution_count": null,
   "id": "8197e6ef",
   "metadata": {},
   "outputs": [],
   "source": []
  },
  {
   "cell_type": "code",
   "execution_count": 8,
   "id": "04ca01ab",
   "metadata": {},
   "outputs": [
    {
     "data": {
      "text/plain": [
       "[<Element pop at 0x2e40c8dcd80>]"
      ]
     },
     "execution_count": 8,
     "metadata": {},
     "output_type": "execute_result"
    }
   ],
   "source": [
    "etree.parse(r\"C:\\Users\\bilene\\Downloads\\ind2.xml\").getroot().xpath('/ind2/FRA/y2007/pop')"
   ]
  },
  {
   "cell_type": "code",
   "execution_count": null,
   "id": "7d71787f",
   "metadata": {},
   "outputs": [],
   "source": []
  }
 ],
 "metadata": {
  "kernelspec": {
   "display_name": "Python 3 (ipykernel)",
   "language": "python",
   "name": "python3"
  },
  "language_info": {
   "codemirror_mode": {
    "name": "ipython",
    "version": 3
   },
   "file_extension": ".py",
   "mimetype": "text/x-python",
   "name": "python",
   "nbconvert_exporter": "python",
   "pygments_lexer": "ipython3",
   "version": "3.9.16"
  }
 },
 "nbformat": 4,
 "nbformat_minor": 5
}
