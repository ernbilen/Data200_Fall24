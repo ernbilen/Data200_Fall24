{
 "cells": [
  {
   "cell_type": "code",
   "execution_count": 1,
   "metadata": {},
   "outputs": [],
   "source": [
    "from selenium import webdriver\n",
    "import pandas as pd\n",
    "import time\n",
    "import random"
   ]
  },
  {
   "cell_type": "code",
   "execution_count": 9,
   "metadata": {},
   "outputs": [
    {
     "name": "stderr",
     "output_type": "stream",
     "text": [
      "C:\\Program Files\\ArcGIS\\Pro\\bin\\Python\\envs\\arcgispro-py3\\lib\\site-packages\\ipykernel_launcher.py:1: DeprecationWarning: executable_path has been deprecated, please pass in a Service object\n",
      "  \"\"\"Entry point for launching an IPython kernel.\n"
     ]
    }
   ],
   "source": [
    "driver = webdriver.Chrome(r\"C:\\Users\\bilene\\OneDrive - Dickinson College\\Desktop\\chromedriver.exe\")"
   ]
  },
  {
   "cell_type": "code",
   "execution_count": 7,
   "metadata": {},
   "outputs": [],
   "source": [
    "driver.get('https://forums.edmunds.com/discussion/2864/general/x/entry-level-luxury-performance-sedans/p1')"
   ]
  },
  {
   "cell_type": "code",
   "execution_count": 9,
   "metadata": {},
   "outputs": [
    {
     "data": {
      "text/plain": [
       "'merc1'"
      ]
     },
     "execution_count": 9,
     "metadata": {},
     "output_type": "execute_result"
    }
   ],
   "source": [
    "userid_element = driver.find_element('xpath','//*[@id=\"Comment_1726631\"]/div/div[2]/div[1]/span[1]/a[2]')\n",
    "\n",
    "userid = userid_element.text\n",
    "userid"
   ]
  },
  {
   "cell_type": "code",
   "execution_count": 13,
   "metadata": {},
   "outputs": [
    {
     "data": {
      "text/plain": [
       "'March 24, 2002 9:54PM'"
      ]
     },
     "execution_count": 13,
     "metadata": {},
     "output_type": "execute_result"
    }
   ],
   "source": [
    "user_date = driver.find_element('xpath','//*[@id=\"Comment_1726631\"]/div/div[2]/div[2]/span/a/time')\n",
    "date = user_date.get_attribute('title')\n",
    "date"
   ]
  },
  {
   "cell_type": "code",
   "execution_count": 15,
   "metadata": {},
   "outputs": [],
   "source": [
    "user_comment = driver.find_element('xpath','//*[@id=\"Comment_1726631\"]/div/div[3]/div/div[1]')\n",
    "comment = user_comment.text\n",
    "#comment"
   ]
  },
  {
   "cell_type": "code",
   "execution_count": 16,
   "metadata": {},
   "outputs": [],
   "source": [
    "# get comment ids that appear on the page\n",
    "ids = driver.find_elements('xpath',\"//*[contains(@id, 'Comment_')]\")\n",
    "ids[0].get_attribute('id')"
   ]
  },
  {
   "cell_type": "code",
   "execution_count": 28,
   "metadata": {},
   "outputs": [],
   "source": [
    "comment_ids = []\n",
    "for i in ids:\n",
    "    comment_ids.append(i.get_attribute('id'))"
   ]
  },
  {
   "cell_type": "code",
   "execution_count": 32,
   "metadata": {},
   "outputs": [],
   "source": [
    "#comment_ids"
   ]
  },
  {
   "cell_type": "code",
   "execution_count": 31,
   "metadata": {},
   "outputs": [
    {
     "data": {
      "text/plain": [
       "'Comment_1726631'"
      ]
     },
     "execution_count": 31,
     "metadata": {},
     "output_type": "execute_result"
    }
   ],
   "source": [
    "comment_ids[0]"
   ]
  },
  {
   "cell_type": "code",
   "execution_count": 35,
   "metadata": {},
   "outputs": [],
   "source": [
    "# scraping a single page\n",
    "comments=[]\n",
    "for x in comment_ids:\n",
    "    #print(x)\n",
    "    userid_element = driver.find_element('xpath','//*[@id=\"' + x + '\"]/div/div[2]/div[1]/span[1]/a[2]')\n",
    "    userid = userid_element.text\n",
    "    \n",
    "    user_date = driver.find_element('xpath','//*[@id=\"' + x + '\"]/div/div[2]/div[2]/span/a/time')\n",
    "    date = user_date.get_attribute('title')\n",
    "    \n",
    "    user_comment = driver.find_element('xpath','//*[@id=\"' + x + '\"]/div/div[3]/div/div[1]')\n",
    "    comment = user_comment.text\n",
    "    \n",
    "    comments.append([date,userid,comment])\n",
    "    "
   ]
  },
  {
   "cell_type": "code",
   "execution_count": 37,
   "metadata": {},
   "outputs": [
    {
     "data": {
      "text/html": [
       "<div>\n",
       "<style scoped>\n",
       "    .dataframe tbody tr th:only-of-type {\n",
       "        vertical-align: middle;\n",
       "    }\n",
       "\n",
       "    .dataframe tbody tr th {\n",
       "        vertical-align: top;\n",
       "    }\n",
       "\n",
       "    .dataframe thead th {\n",
       "        text-align: right;\n",
       "    }\n",
       "</style>\n",
       "<table border=\"1\" class=\"dataframe\">\n",
       "  <thead>\n",
       "    <tr style=\"text-align: right;\">\n",
       "      <th></th>\n",
       "      <th>date</th>\n",
       "      <th>userid</th>\n",
       "      <th>comment</th>\n",
       "    </tr>\n",
       "  </thead>\n",
       "  <tbody>\n",
       "    <tr>\n",
       "      <th>0</th>\n",
       "      <td>March 24, 2002 9:54PM</td>\n",
       "      <td>merc1</td>\n",
       "      <td>I personally think that with a few tweaks the ...</td>\n",
       "    </tr>\n",
       "    <tr>\n",
       "      <th>1</th>\n",
       "      <td>March 24, 2002 11:06PM</td>\n",
       "      <td>fredvh</td>\n",
       "      <td>I am debating a new purchase and these two are...</td>\n",
       "    </tr>\n",
       "    <tr>\n",
       "      <th>2</th>\n",
       "      <td>March 25, 2002 9:02AM</td>\n",
       "      <td>blueguydotcom</td>\n",
       "      <td>Great handling, RWD, excellent engine and the ...</td>\n",
       "    </tr>\n",
       "    <tr>\n",
       "      <th>3</th>\n",
       "      <td>March 25, 2002 3:04PM</td>\n",
       "      <td>hungrywhale</td>\n",
       "      <td>And no manual tranny. That may not matter to y...</td>\n",
       "    </tr>\n",
       "    <tr>\n",
       "      <th>4</th>\n",
       "      <td>March 25, 2002 4:44PM</td>\n",
       "      <td>riez</td>\n",
       "      <td>One beauty of BMW 3 Series is that there are s...</td>\n",
       "    </tr>\n",
       "    <tr>\n",
       "      <th>5</th>\n",
       "      <td>March 26, 2002 12:20PM</td>\n",
       "      <td>blueguydotcom</td>\n",
       "      <td>good grief, so you wait 9 months for the manua...</td>\n",
       "    </tr>\n",
       "    <tr>\n",
       "      <th>6</th>\n",
       "      <td>March 26, 2002 1:02PM</td>\n",
       "      <td>hungrywhale</td>\n",
       "      <td>I'll give it a fair shot when the manual comes...</td>\n",
       "    </tr>\n",
       "    <tr>\n",
       "      <th>7</th>\n",
       "      <td>March 26, 2002 1:45PM</td>\n",
       "      <td>blueguydotcom</td>\n",
       "      <td>I understand it's not about the speed. I reall...</td>\n",
       "    </tr>\n",
       "    <tr>\n",
       "      <th>8</th>\n",
       "      <td>March 26, 2002 4:00PM</td>\n",
       "      <td>hungrywhale</td>\n",
       "      <td>It sounds like you know why I won't even put i...</td>\n",
       "    </tr>\n",
       "    <tr>\n",
       "      <th>9</th>\n",
       "      <td>March 26, 2002 6:00PM</td>\n",
       "      <td>riez</td>\n",
       "      <td>Is there such a thing as an automatic-only tru...</td>\n",
       "    </tr>\n",
       "    <tr>\n",
       "      <th>10</th>\n",
       "      <td>March 26, 2002 6:55PM</td>\n",
       "      <td>wishnhigh1</td>\n",
       "      <td>If I had to rank the entry lux performance sed...</td>\n",
       "    </tr>\n",
       "    <tr>\n",
       "      <th>11</th>\n",
       "      <td>March 26, 2002 9:06PM</td>\n",
       "      <td>shipo</td>\n",
       "      <td>Hey my friend, dig this, in Australia, the ONL...</td>\n",
       "    </tr>\n",
       "    <tr>\n",
       "      <th>12</th>\n",
       "      <td>March 27, 2002 6:20AM</td>\n",
       "      <td>mbarto</td>\n",
       "      <td>&gt;\"Is there such a thing as an automatic-only t...</td>\n",
       "    </tr>\n",
       "    <tr>\n",
       "      <th>13</th>\n",
       "      <td>March 27, 2002 9:00AM</td>\n",
       "      <td>hungrywhale</td>\n",
       "      <td>I think what riez and I are trying to say is n...</td>\n",
       "    </tr>\n",
       "    <tr>\n",
       "      <th>14</th>\n",
       "      <td>March 27, 2002 10:10AM</td>\n",
       "      <td>blueguydotcom</td>\n",
       "      <td>amen</td>\n",
       "    </tr>\n",
       "    <tr>\n",
       "      <th>15</th>\n",
       "      <td>March 27, 2002 10:23AM</td>\n",
       "      <td>dave330i</td>\n",
       "      <td>In this class, the best bang for the buck has ...</td>\n",
       "    </tr>\n",
       "    <tr>\n",
       "      <th>16</th>\n",
       "      <td>March 27, 2002 11:06AM</td>\n",
       "      <td>blueguydotcom</td>\n",
       "      <td>Even at 29k for a 35k msrp IS300, I passed on ...</td>\n",
       "    </tr>\n",
       "    <tr>\n",
       "      <th>17</th>\n",
       "      <td>March 27, 2002 12:42PM</td>\n",
       "      <td>wishnhigh1</td>\n",
       "      <td>Never liked a lexus, and probably never will. ...</td>\n",
       "    </tr>\n",
       "    <tr>\n",
       "      <th>18</th>\n",
       "      <td>March 27, 2002 12:46PM</td>\n",
       "      <td>dave330i</td>\n",
       "      <td>\"I would buy the IS as a Toyota but not a Lexu...</td>\n",
       "    </tr>\n",
       "    <tr>\n",
       "      <th>19</th>\n",
       "      <td>March 27, 2002 1:10PM</td>\n",
       "      <td>riez</td>\n",
       "      <td>I couldn't have said it better myself. I'll le...</td>\n",
       "    </tr>\n",
       "    <tr>\n",
       "      <th>20</th>\n",
       "      <td>March 27, 2002 11:43PM</td>\n",
       "      <td>mbarto</td>\n",
       "      <td>Thanks Riez! Let me know when you do. I'm sure...</td>\n",
       "    </tr>\n",
       "    <tr>\n",
       "      <th>21</th>\n",
       "      <td>March 28, 2002 4:07PM</td>\n",
       "      <td>riez</td>\n",
       "      <td>mbarto... As regards the \"bribes\" issue, you'v...</td>\n",
       "    </tr>\n",
       "    <tr>\n",
       "      <th>22</th>\n",
       "      <td>April 5, 2002 2:34PM</td>\n",
       "      <td>cybersol</td>\n",
       "      <td>So if someone were looking to purchase a new p...</td>\n",
       "    </tr>\n",
       "    <tr>\n",
       "      <th>23</th>\n",
       "      <td>April 5, 2002 4:16PM</td>\n",
       "      <td>riez</td>\n",
       "      <td>Since it has to have a manual transmission and...</td>\n",
       "    </tr>\n",
       "    <tr>\n",
       "      <th>24</th>\n",
       "      <td>April 7, 2002 7:22AM</td>\n",
       "      <td>coolguyky7</td>\n",
       "      <td>The TL should be up for redesign in a few year...</td>\n",
       "    </tr>\n",
       "    <tr>\n",
       "      <th>25</th>\n",
       "      <td>April 7, 2002 2:59PM</td>\n",
       "      <td>kdshapiro</td>\n",
       "      <td>The new ES is a very smart looking car. Notwit...</td>\n",
       "    </tr>\n",
       "    <tr>\n",
       "      <th>26</th>\n",
       "      <td>April 8, 2002 2:32PM</td>\n",
       "      <td>blueguydotcom</td>\n",
       "      <td>Um...you left off the Infiniti G35 and it's bl...</td>\n",
       "    </tr>\n",
       "    <tr>\n",
       "      <th>27</th>\n",
       "      <td>April 9, 2002 1:12PM</td>\n",
       "      <td>jagboyxkr</td>\n",
       "      <td>Sorry, I thought that I had already taken up t...</td>\n",
       "    </tr>\n",
       "    <tr>\n",
       "      <th>28</th>\n",
       "      <td>April 9, 2002 1:43PM</td>\n",
       "      <td>blueguydotcom</td>\n",
       "      <td>Go drive one. They're a blast and for the mone...</td>\n",
       "    </tr>\n",
       "    <tr>\n",
       "      <th>29</th>\n",
       "      <td>April 11, 2002 2:06PM</td>\n",
       "      <td>steffie2jc</td>\n",
       "      <td>I can't make a decision. I was set on the MB C...</td>\n",
       "    </tr>\n",
       "    <tr>\n",
       "      <th>30</th>\n",
       "      <td>April 12, 2002 6:53AM</td>\n",
       "      <td>merc1</td>\n",
       "      <td>Well I'm a Benz fan first and foremost, but th...</td>\n",
       "    </tr>\n",
       "    <tr>\n",
       "      <th>31</th>\n",
       "      <td>April 14, 2002 12:09AM</td>\n",
       "      <td>popovs</td>\n",
       "      <td>I think both are excellent(sp?) cars, however ...</td>\n",
       "    </tr>\n",
       "    <tr>\n",
       "      <th>32</th>\n",
       "      <td>April 17, 2002 1:23AM</td>\n",
       "      <td>popovs</td>\n",
       "      <td>It has come to my attention that as of late MB...</td>\n",
       "    </tr>\n",
       "    <tr>\n",
       "      <th>33</th>\n",
       "      <td>April 17, 2002 11:37AM</td>\n",
       "      <td>mvargo1</td>\n",
       "      <td>There is not much to debate on this subject. I...</td>\n",
       "    </tr>\n",
       "    <tr>\n",
       "      <th>34</th>\n",
       "      <td>April 17, 2002 12:11PM</td>\n",
       "      <td>wishnhigh1</td>\n",
       "      <td>gave up nationality based generalizations a co...</td>\n",
       "    </tr>\n",
       "    <tr>\n",
       "      <th>35</th>\n",
       "      <td>April 18, 2002 3:12PM</td>\n",
       "      <td>cybersol</td>\n",
       "      <td>I'm interested more towards performance than l...</td>\n",
       "    </tr>\n",
       "    <tr>\n",
       "      <th>36</th>\n",
       "      <td>April 18, 2002 3:50PM</td>\n",
       "      <td>riez</td>\n",
       "      <td>cybersol... I can't fathom why you would want ...</td>\n",
       "    </tr>\n",
       "    <tr>\n",
       "      <th>37</th>\n",
       "      <td>April 18, 2002 5:07PM</td>\n",
       "      <td>cybersol</td>\n",
       "      <td>Sorry to disappoint with the slushbox, but if ...</td>\n",
       "    </tr>\n",
       "    <tr>\n",
       "      <th>38</th>\n",
       "      <td>April 18, 2002 6:14PM</td>\n",
       "      <td>kdshapiro</td>\n",
       "      <td>The new Altima is great as my friends just bou...</td>\n",
       "    </tr>\n",
       "    <tr>\n",
       "      <th>39</th>\n",
       "      <td>April 18, 2002 6:18PM</td>\n",
       "      <td>riez</td>\n",
       "      <td>cybersol... Excitement and slushbox don't seem...</td>\n",
       "    </tr>\n",
       "    <tr>\n",
       "      <th>40</th>\n",
       "      <td>April 19, 2002 7:28AM</td>\n",
       "      <td>dave330i</td>\n",
       "      <td>\"Excitement and slushbox don't seem to be comp...</td>\n",
       "    </tr>\n",
       "    <tr>\n",
       "      <th>41</th>\n",
       "      <td>April 20, 2002 12:18AM</td>\n",
       "      <td>cybersol</td>\n",
       "      <td>Riez, you have heard of speed sensitive steeri...</td>\n",
       "    </tr>\n",
       "    <tr>\n",
       "      <th>42</th>\n",
       "      <td>April 20, 2002 8:49AM</td>\n",
       "      <td>riez</td>\n",
       "      <td>cybersol... There are two types. Those tied to...</td>\n",
       "    </tr>\n",
       "    <tr>\n",
       "      <th>43</th>\n",
       "      <td>April 20, 2002 11:36PM</td>\n",
       "      <td>cybersol</td>\n",
       "      <td>Yeah, I have that brouchure and they don't men...</td>\n",
       "    </tr>\n",
       "    <tr>\n",
       "      <th>44</th>\n",
       "      <td>April 21, 2002 5:50AM</td>\n",
       "      <td>riez</td>\n",
       "      <td>cybersol... From what I've read, the better va...</td>\n",
       "    </tr>\n",
       "    <tr>\n",
       "      <th>45</th>\n",
       "      <td>April 24, 2002 6:51AM</td>\n",
       "      <td>beartrax79</td>\n",
       "      <td>So, if you read through most of this group, al...</td>\n",
       "    </tr>\n",
       "    <tr>\n",
       "      <th>46</th>\n",
       "      <td>April 24, 2002 4:15PM</td>\n",
       "      <td>cybersol</td>\n",
       "      <td>Have you driven them both? The S4 really moves...</td>\n",
       "    </tr>\n",
       "    <tr>\n",
       "      <th>47</th>\n",
       "      <td>April 25, 2002 11:36AM</td>\n",
       "      <td>beartrax79</td>\n",
       "      <td>I've tested the 3.0, not the S4. Hmmm... new S...</td>\n",
       "    </tr>\n",
       "    <tr>\n",
       "      <th>48</th>\n",
       "      <td>April 26, 2002 8:50AM</td>\n",
       "      <td>cybersol</td>\n",
       "      <td>Yeah, the current S4 has 250 hp and 258 lb-ft ...</td>\n",
       "    </tr>\n",
       "    <tr>\n",
       "      <th>49</th>\n",
       "      <td>April 27, 2002 1:37PM</td>\n",
       "      <td>1pierce</td>\n",
       "      <td>Not so fast. There is merit to the \"nationalit...</td>\n",
       "    </tr>\n",
       "  </tbody>\n",
       "</table>\n",
       "</div>"
      ],
      "text/plain": [
       "                      date         userid  \\\n",
       "0    March 24, 2002 9:54PM          merc1   \n",
       "1   March 24, 2002 11:06PM         fredvh   \n",
       "2    March 25, 2002 9:02AM  blueguydotcom   \n",
       "3    March 25, 2002 3:04PM    hungrywhale   \n",
       "4    March 25, 2002 4:44PM           riez   \n",
       "5   March 26, 2002 12:20PM  blueguydotcom   \n",
       "6    March 26, 2002 1:02PM    hungrywhale   \n",
       "7    March 26, 2002 1:45PM  blueguydotcom   \n",
       "8    March 26, 2002 4:00PM    hungrywhale   \n",
       "9    March 26, 2002 6:00PM           riez   \n",
       "10   March 26, 2002 6:55PM     wishnhigh1   \n",
       "11   March 26, 2002 9:06PM          shipo   \n",
       "12   March 27, 2002 6:20AM         mbarto   \n",
       "13   March 27, 2002 9:00AM    hungrywhale   \n",
       "14  March 27, 2002 10:10AM  blueguydotcom   \n",
       "15  March 27, 2002 10:23AM       dave330i   \n",
       "16  March 27, 2002 11:06AM  blueguydotcom   \n",
       "17  March 27, 2002 12:42PM     wishnhigh1   \n",
       "18  March 27, 2002 12:46PM       dave330i   \n",
       "19   March 27, 2002 1:10PM           riez   \n",
       "20  March 27, 2002 11:43PM         mbarto   \n",
       "21   March 28, 2002 4:07PM           riez   \n",
       "22    April 5, 2002 2:34PM       cybersol   \n",
       "23    April 5, 2002 4:16PM           riez   \n",
       "24    April 7, 2002 7:22AM     coolguyky7   \n",
       "25    April 7, 2002 2:59PM      kdshapiro   \n",
       "26    April 8, 2002 2:32PM  blueguydotcom   \n",
       "27    April 9, 2002 1:12PM      jagboyxkr   \n",
       "28    April 9, 2002 1:43PM  blueguydotcom   \n",
       "29   April 11, 2002 2:06PM     steffie2jc   \n",
       "30   April 12, 2002 6:53AM          merc1   \n",
       "31  April 14, 2002 12:09AM         popovs   \n",
       "32   April 17, 2002 1:23AM         popovs   \n",
       "33  April 17, 2002 11:37AM        mvargo1   \n",
       "34  April 17, 2002 12:11PM     wishnhigh1   \n",
       "35   April 18, 2002 3:12PM       cybersol   \n",
       "36   April 18, 2002 3:50PM           riez   \n",
       "37   April 18, 2002 5:07PM       cybersol   \n",
       "38   April 18, 2002 6:14PM      kdshapiro   \n",
       "39   April 18, 2002 6:18PM           riez   \n",
       "40   April 19, 2002 7:28AM       dave330i   \n",
       "41  April 20, 2002 12:18AM       cybersol   \n",
       "42   April 20, 2002 8:49AM           riez   \n",
       "43  April 20, 2002 11:36PM       cybersol   \n",
       "44   April 21, 2002 5:50AM           riez   \n",
       "45   April 24, 2002 6:51AM     beartrax79   \n",
       "46   April 24, 2002 4:15PM       cybersol   \n",
       "47  April 25, 2002 11:36AM     beartrax79   \n",
       "48   April 26, 2002 8:50AM       cybersol   \n",
       "49   April 27, 2002 1:37PM        1pierce   \n",
       "\n",
       "                                              comment  \n",
       "0   I personally think that with a few tweaks the ...  \n",
       "1   I am debating a new purchase and these two are...  \n",
       "2   Great handling, RWD, excellent engine and the ...  \n",
       "3   And no manual tranny. That may not matter to y...  \n",
       "4   One beauty of BMW 3 Series is that there are s...  \n",
       "5   good grief, so you wait 9 months for the manua...  \n",
       "6   I'll give it a fair shot when the manual comes...  \n",
       "7   I understand it's not about the speed. I reall...  \n",
       "8   It sounds like you know why I won't even put i...  \n",
       "9   Is there such a thing as an automatic-only tru...  \n",
       "10  If I had to rank the entry lux performance sed...  \n",
       "11  Hey my friend, dig this, in Australia, the ONL...  \n",
       "12  >\"Is there such a thing as an automatic-only t...  \n",
       "13  I think what riez and I are trying to say is n...  \n",
       "14                                               amen  \n",
       "15  In this class, the best bang for the buck has ...  \n",
       "16  Even at 29k for a 35k msrp IS300, I passed on ...  \n",
       "17  Never liked a lexus, and probably never will. ...  \n",
       "18  \"I would buy the IS as a Toyota but not a Lexu...  \n",
       "19  I couldn't have said it better myself. I'll le...  \n",
       "20  Thanks Riez! Let me know when you do. I'm sure...  \n",
       "21  mbarto... As regards the \"bribes\" issue, you'v...  \n",
       "22  So if someone were looking to purchase a new p...  \n",
       "23  Since it has to have a manual transmission and...  \n",
       "24  The TL should be up for redesign in a few year...  \n",
       "25  The new ES is a very smart looking car. Notwit...  \n",
       "26  Um...you left off the Infiniti G35 and it's bl...  \n",
       "27  Sorry, I thought that I had already taken up t...  \n",
       "28  Go drive one. They're a blast and for the mone...  \n",
       "29  I can't make a decision. I was set on the MB C...  \n",
       "30  Well I'm a Benz fan first and foremost, but th...  \n",
       "31  I think both are excellent(sp?) cars, however ...  \n",
       "32  It has come to my attention that as of late MB...  \n",
       "33  There is not much to debate on this subject. I...  \n",
       "34  gave up nationality based generalizations a co...  \n",
       "35  I'm interested more towards performance than l...  \n",
       "36  cybersol... I can't fathom why you would want ...  \n",
       "37  Sorry to disappoint with the slushbox, but if ...  \n",
       "38  The new Altima is great as my friends just bou...  \n",
       "39  cybersol... Excitement and slushbox don't seem...  \n",
       "40  \"Excitement and slushbox don't seem to be comp...  \n",
       "41  Riez, you have heard of speed sensitive steeri...  \n",
       "42  cybersol... There are two types. Those tied to...  \n",
       "43  Yeah, I have that brouchure and they don't men...  \n",
       "44  cybersol... From what I've read, the better va...  \n",
       "45  So, if you read through most of this group, al...  \n",
       "46  Have you driven them both? The S4 really moves...  \n",
       "47  I've tested the 3.0, not the S4. Hmmm... new S...  \n",
       "48  Yeah, the current S4 has 250 hp and 258 lb-ft ...  \n",
       "49  Not so fast. There is merit to the \"nationalit...  "
      ]
     },
     "execution_count": 37,
     "metadata": {},
     "output_type": "execute_result"
    }
   ],
   "source": [
    "df_single = pd.DataFrame(comments, columns=['date','userid','comment'])\n",
    "df_single"
   ]
  },
  {
   "cell_type": "code",
   "execution_count": 5,
   "metadata": {},
   "outputs": [],
   "source": [
    "ls = ['p1','p2','p3']"
   ]
  },
  {
   "cell_type": "code",
   "execution_count": 6,
   "metadata": {},
   "outputs": [],
   "source": [
    "#//*[@id=\"Comment_1738047\"]/div/div[2]/div[1]/span[1]/a[2]"
   ]
  },
  {
   "cell_type": "code",
   "execution_count": 101,
   "metadata": {},
   "outputs": [],
   "source": [
    "def get_comment_ids():  \n",
    "    # get comment ids that appear on the page\n",
    "    ids = driver.find_elements('xpath',\"//*[contains(@id, 'Comment_')]\")\n",
    "    comment_ids = []\n",
    "    for i in ids:\n",
    "        comment_ids.append(i.get_attribute('id'))\n",
    "    return comment_ids"
   ]
  },
  {
   "cell_type": "code",
   "execution_count": 10,
   "metadata": {},
   "outputs": [
    {
     "name": "stdout",
     "output_type": "stream",
     "text": [
      "p1\n",
      "p2\n",
      "p3\n"
     ]
    }
   ],
   "source": [
    "# multiple pages, idea 1\n",
    "comments=[]\n",
    "for i in ls:\n",
    "    print(i)\n",
    "    driver.get('https://forums.edmunds.com/discussion/2864/general/x/entry-level-luxury-performance-sedans/' + i)\n",
    "    \n",
    "    # get comment ids in the current page\n",
    "    comment_ids = get_comment_ids()\n",
    "    \n",
    "    # scraping a single page\n",
    "    for x in comment_ids:\n",
    "        #print(x)\n",
    "        userid_element = driver.find_element('xpath','//*[@id=\"' + x + '\"]/div/div[2]/div[1]/span[1]/a[2]')\n",
    "        userid = userid_element.text\n",
    "\n",
    "        user_date = driver.find_element('xpath','//*[@id=\"' + x + '\"]/div/div[2]/div[2]/span/a/time')\n",
    "        date = user_date.get_attribute('title')\n",
    "\n",
    "        user_comment = driver.find_element('xpath','//*[@id=\"' + x + '\"]/div/div[3]/div/div[1]')\n",
    "        comment = user_comment.text\n",
    "\n",
    "        comments.append([date,userid,comment])\n",
    "        \n",
    "    time.sleep(random.uniform(2,3))\n",
    "df_out = pd.DataFrame(comments,columns=['date','userid','comment'])\n"
   ]
  },
  {
   "cell_type": "code",
   "execution_count": 11,
   "metadata": {},
   "outputs": [
    {
     "data": {
      "text/html": [
       "<div>\n",
       "<style scoped>\n",
       "    .dataframe tbody tr th:only-of-type {\n",
       "        vertical-align: middle;\n",
       "    }\n",
       "\n",
       "    .dataframe tbody tr th {\n",
       "        vertical-align: top;\n",
       "    }\n",
       "\n",
       "    .dataframe thead th {\n",
       "        text-align: right;\n",
       "    }\n",
       "</style>\n",
       "<table border=\"1\" class=\"dataframe\">\n",
       "  <thead>\n",
       "    <tr style=\"text-align: right;\">\n",
       "      <th></th>\n",
       "      <th>date</th>\n",
       "      <th>userid</th>\n",
       "      <th>comment</th>\n",
       "    </tr>\n",
       "  </thead>\n",
       "  <tbody>\n",
       "    <tr>\n",
       "      <th>0</th>\n",
       "      <td>March 24, 2002 9:54PM</td>\n",
       "      <td>merc1</td>\n",
       "      <td>I personally think that with a few tweaks the ...</td>\n",
       "    </tr>\n",
       "    <tr>\n",
       "      <th>1</th>\n",
       "      <td>March 24, 2002 11:06PM</td>\n",
       "      <td>fredvh</td>\n",
       "      <td>I am debating a new purchase and these two are...</td>\n",
       "    </tr>\n",
       "    <tr>\n",
       "      <th>2</th>\n",
       "      <td>March 25, 2002 9:02AM</td>\n",
       "      <td>blueguydotcom</td>\n",
       "      <td>Great handling, RWD, excellent engine and the ...</td>\n",
       "    </tr>\n",
       "    <tr>\n",
       "      <th>3</th>\n",
       "      <td>March 25, 2002 3:04PM</td>\n",
       "      <td>hungrywhale</td>\n",
       "      <td>And no manual tranny. That may not matter to y...</td>\n",
       "    </tr>\n",
       "    <tr>\n",
       "      <th>4</th>\n",
       "      <td>March 25, 2002 4:44PM</td>\n",
       "      <td>riez</td>\n",
       "      <td>One beauty of BMW 3 Series is that there are s...</td>\n",
       "    </tr>\n",
       "    <tr>\n",
       "      <th>...</th>\n",
       "      <td>...</td>\n",
       "      <td>...</td>\n",
       "      <td>...</td>\n",
       "    </tr>\n",
       "    <tr>\n",
       "      <th>145</th>\n",
       "      <td>September 27, 2002 6:01PM</td>\n",
       "      <td>linard</td>\n",
       "      <td>Well, in any case, we don't know the exact fig...</td>\n",
       "    </tr>\n",
       "    <tr>\n",
       "      <th>146</th>\n",
       "      <td>September 27, 2002 6:19PM</td>\n",
       "      <td>cybersol</td>\n",
       "      <td>Actually, stiffness mainly determines how much...</td>\n",
       "    </tr>\n",
       "    <tr>\n",
       "      <th>147</th>\n",
       "      <td>September 27, 2002 10:14PM</td>\n",
       "      <td>jagboyxtype</td>\n",
       "      <td>Actually, this isn't the X-TYPE we have here i...</td>\n",
       "    </tr>\n",
       "    <tr>\n",
       "      <th>148</th>\n",
       "      <td>September 29, 2002 9:58AM</td>\n",
       "      <td>linard</td>\n",
       "      <td>I honestly cannot remember a car I've been in ...</td>\n",
       "    </tr>\n",
       "    <tr>\n",
       "      <th>149</th>\n",
       "      <td>September 29, 2002 6:49PM</td>\n",
       "      <td>wishnhigh1</td>\n",
       "      <td>\"they DOUBLE their rigidity with EVERY platfor...</td>\n",
       "    </tr>\n",
       "  </tbody>\n",
       "</table>\n",
       "<p>150 rows × 3 columns</p>\n",
       "</div>"
      ],
      "text/plain": [
       "                           date         userid  \\\n",
       "0         March 24, 2002 9:54PM          merc1   \n",
       "1        March 24, 2002 11:06PM         fredvh   \n",
       "2         March 25, 2002 9:02AM  blueguydotcom   \n",
       "3         March 25, 2002 3:04PM    hungrywhale   \n",
       "4         March 25, 2002 4:44PM           riez   \n",
       "..                          ...            ...   \n",
       "145   September 27, 2002 6:01PM         linard   \n",
       "146   September 27, 2002 6:19PM       cybersol   \n",
       "147  September 27, 2002 10:14PM    jagboyxtype   \n",
       "148   September 29, 2002 9:58AM         linard   \n",
       "149   September 29, 2002 6:49PM     wishnhigh1   \n",
       "\n",
       "                                               comment  \n",
       "0    I personally think that with a few tweaks the ...  \n",
       "1    I am debating a new purchase and these two are...  \n",
       "2    Great handling, RWD, excellent engine and the ...  \n",
       "3    And no manual tranny. That may not matter to y...  \n",
       "4    One beauty of BMW 3 Series is that there are s...  \n",
       "..                                                 ...  \n",
       "145  Well, in any case, we don't know the exact fig...  \n",
       "146  Actually, stiffness mainly determines how much...  \n",
       "147  Actually, this isn't the X-TYPE we have here i...  \n",
       "148  I honestly cannot remember a car I've been in ...  \n",
       "149  \"they DOUBLE their rigidity with EVERY platfor...  \n",
       "\n",
       "[150 rows x 3 columns]"
      ]
     },
     "execution_count": 11,
     "metadata": {},
     "output_type": "execute_result"
    }
   ],
   "source": [
    "df_out"
   ]
  },
  {
   "cell_type": "code",
   "execution_count": null,
   "metadata": {},
   "outputs": [],
   "source": [
    "# idea 2: make the bot click on \"next page\" button (arrow)\n",
    "# how do you click on things selenium?"
   ]
  },
  {
   "cell_type": "code",
   "execution_count": 20,
   "metadata": {},
   "outputs": [],
   "source": [
    "num = len(driver.find_element('xpath','//*[@id=\"PagerBefore\"]').text.split('\\n'))"
   ]
  },
  {
   "cell_type": "code",
   "execution_count": 24,
   "metadata": {},
   "outputs": [
    {
     "data": {
      "text/plain": [
       "'«\\n1\\n2\\n3\\n4\\n5\\n6\\n7\\n…\\n435\\n»'"
      ]
     },
     "execution_count": 24,
     "metadata": {},
     "output_type": "execute_result"
    }
   ],
   "source": [
    "driver.find_element('xpath','//*[@id=\"PagerBefore\"]').text"
   ]
  },
  {
   "cell_type": "code",
   "execution_count": 18,
   "metadata": {},
   "outputs": [
    {
     "data": {
      "text/plain": [
       "11"
      ]
     },
     "execution_count": 18,
     "metadata": {},
     "output_type": "execute_result"
    }
   ],
   "source": [
    "num"
   ]
  },
  {
   "cell_type": "code",
   "execution_count": null,
   "metadata": {},
   "outputs": [],
   "source": [
    "//*[@id=\"PagerBefore\"]/a[9]\n",
    "//*[@id=\"PagerBefore\"]/a[10]"
   ]
  },
  {
   "cell_type": "code",
   "execution_count": 36,
   "metadata": {},
   "outputs": [
    {
     "data": {
      "text/plain": [
       "'»'"
      ]
     },
     "execution_count": 36,
     "metadata": {},
     "output_type": "execute_result"
    }
   ],
   "source": [
    "driver.find_element('xpath','//*[@id=\"PagerBefore\"]/a[{}]'.format(num-2)).text"
   ]
  },
  {
   "cell_type": "code",
   "execution_count": 43,
   "metadata": {},
   "outputs": [
    {
     "data": {
      "text/plain": [
       "'Next Page'"
      ]
     },
     "execution_count": 43,
     "metadata": {},
     "output_type": "execute_result"
    }
   ],
   "source": [
    "driver.find_element('xpath','//*[@id=\"PagerBefore\"]/a[{}]'.format(9)).get_attribute('title')"
   ]
  },
  {
   "cell_type": "code",
   "execution_count": 80,
   "metadata": {},
   "outputs": [],
   "source": [
    "def get_loc():\n",
    "    num = len(driver.find_element('xpath','//*[@id=\"PagerBefore\"]').text.split('\\n'))\n",
    "    attributes=[]\n",
    "    location=[]\n",
    "    for m in range(20):\n",
    "        try:\n",
    "            attributes.append(driver.find_element('xpath','//*[@id=\"PagerBefore\"]/a[{}]'.format(m)).get_attribute('title'))\n",
    "            if driver.find_element('xpath','//*[@id=\"PagerBefore\"]/a[{}]'.format(m)).get_attribute('title') == 'Next Page':\n",
    "                location.append(m)\n",
    "            return location[0]\n",
    "        except:\n",
    "            attributes.append('.')"
   ]
  },
  {
   "cell_type": "code",
   "execution_count": 95,
   "metadata": {},
   "outputs": [
    {
     "data": {
      "text/plain": [
       "<selenium.webdriver.remote.webelement.WebElement (session=\"1362e5523303783c69273e2215337d8d\", element=\"987f93c5-efcb-4d4f-8e5c-c5e31f8fb9bb\")>"
      ]
     },
     "execution_count": 95,
     "metadata": {},
     "output_type": "execute_result"
    }
   ],
   "source": [
    "driver.find_element('xpath','//*[@title=\"Next Page\"]')"
   ]
  },
  {
   "cell_type": "code",
   "execution_count": 82,
   "metadata": {},
   "outputs": [
    {
     "data": {
      "text/plain": [
       "['.', '', '', '', '', '', '', '', '', 'Next Page', '.', '']"
      ]
     },
     "execution_count": 82,
     "metadata": {},
     "output_type": "execute_result"
    }
   ],
   "source": [
    "attributes"
   ]
  },
  {
   "cell_type": "code",
   "execution_count": 83,
   "metadata": {},
   "outputs": [
    {
     "data": {
      "text/plain": [
       "11"
      ]
     },
     "execution_count": 83,
     "metadata": {},
     "output_type": "execute_result"
    }
   ],
   "source": [
    "get_loc()"
   ]
  },
  {
   "cell_type": "code",
   "execution_count": 90,
   "metadata": {},
   "outputs": [],
   "source": [
    "location = get_loc()\n",
    "button = driver.find_element('xpath','//*[@id=\"PagerBefore\"]/a[{}]'.format(location))\n",
    "button.click()"
   ]
  },
  {
   "cell_type": "code",
   "execution_count": 100,
   "metadata": {},
   "outputs": [],
   "source": [
    "location = get_loc()\n",
    "button = driver.find_element('xpath','//*[@title=\"Next Page\"]')\n",
    "button.click()"
   ]
  },
  {
   "cell_type": "code",
   "execution_count": 103,
   "metadata": {},
   "outputs": [],
   "source": [
    "def get_comments():\n",
    "    comments=[]\n",
    "    # scraping a single page\n",
    "    for x in comment_ids:\n",
    "        #print(x)\n",
    "        userid_element = driver.find_element('xpath','//*[@id=\"' + x + '\"]/div/div[2]/div[1]/span[1]/a[2]')\n",
    "        userid = userid_element.text\n",
    "\n",
    "        user_date = driver.find_element('xpath','//*[@id=\"' + x + '\"]/div/div[2]/div[2]/span/a/time')\n",
    "        date = user_date.get_attribute('title')\n",
    "\n",
    "        user_comment = driver.find_element('xpath','//*[@id=\"' + x + '\"]/div/div[3]/div/div[1]')\n",
    "        comment = user_comment.text\n",
    "\n",
    "        comments.append([date,userid,comment])\n",
    "    return comments"
   ]
  },
  {
   "cell_type": "code",
   "execution_count": 104,
   "metadata": {},
   "outputs": [],
   "source": [
    "# go to first page\n",
    "driver.get('https://forums.edmunds.com/discussion/2864/general/x/entry-level-luxury-performance-sedans/p1')\n",
    "# looping over pages\n",
    "for j in range(400):\n",
    "    try:\n",
    "        # get comment ids\n",
    "        comment_ids = get_comment_ids()\n",
    "\n",
    "        # get comments\n",
    "        comments = get_comments()\n",
    "\n",
    "        # df with the current page data\n",
    "        df = pd.DataFrame(comments,columns=['date','userid','comment'])\n",
    "\n",
    "        # df_out with the entire data\n",
    "        df_out = pd.concat([df_out,df])\n",
    "\n",
    "        # wait between 0-1 second\n",
    "        time.sleep(random.uniform(0,1))\n",
    "\n",
    "        # find the location of the next page button, then click on it!\n",
    "        button = driver.find_element('xpath','//*[@title=\"Next Page\"]')\n",
    "        button.click()\n",
    "    except:\n",
    "        print('Error!')"
   ]
  },
  {
   "cell_type": "code",
   "execution_count": 106,
   "metadata": {},
   "outputs": [
    {
     "data": {
      "text/html": [
       "<div>\n",
       "<style scoped>\n",
       "    .dataframe tbody tr th:only-of-type {\n",
       "        vertical-align: middle;\n",
       "    }\n",
       "\n",
       "    .dataframe tbody tr th {\n",
       "        vertical-align: top;\n",
       "    }\n",
       "\n",
       "    .dataframe thead th {\n",
       "        text-align: right;\n",
       "    }\n",
       "</style>\n",
       "<table border=\"1\" class=\"dataframe\">\n",
       "  <thead>\n",
       "    <tr style=\"text-align: right;\">\n",
       "      <th></th>\n",
       "      <th>date</th>\n",
       "      <th>userid</th>\n",
       "      <th>comment</th>\n",
       "    </tr>\n",
       "  </thead>\n",
       "  <tbody>\n",
       "    <tr>\n",
       "      <th>0</th>\n",
       "      <td>March 24, 2002 9:54PM</td>\n",
       "      <td>merc1</td>\n",
       "      <td>I personally think that with a few tweaks the ...</td>\n",
       "    </tr>\n",
       "    <tr>\n",
       "      <th>1</th>\n",
       "      <td>March 24, 2002 11:06PM</td>\n",
       "      <td>fredvh</td>\n",
       "      <td>I am debating a new purchase and these two are...</td>\n",
       "    </tr>\n",
       "    <tr>\n",
       "      <th>2</th>\n",
       "      <td>March 25, 2002 9:02AM</td>\n",
       "      <td>blueguydotcom</td>\n",
       "      <td>Great handling, RWD, excellent engine and the ...</td>\n",
       "    </tr>\n",
       "    <tr>\n",
       "      <th>3</th>\n",
       "      <td>March 25, 2002 3:04PM</td>\n",
       "      <td>hungrywhale</td>\n",
       "      <td>And no manual tranny. That may not matter to y...</td>\n",
       "    </tr>\n",
       "    <tr>\n",
       "      <th>4</th>\n",
       "      <td>March 25, 2002 4:44PM</td>\n",
       "      <td>riez</td>\n",
       "      <td>One beauty of BMW 3 Series is that there are s...</td>\n",
       "    </tr>\n",
       "    <tr>\n",
       "      <th>...</th>\n",
       "      <td>...</td>\n",
       "      <td>...</td>\n",
       "      <td>...</td>\n",
       "    </tr>\n",
       "    <tr>\n",
       "      <th>645</th>\n",
       "      <td>January 10, 2004 12:33PM</td>\n",
       "      <td>saugatak</td>\n",
       "      <td>riez, i agree with you 100%. you can't even ju...</td>\n",
       "    </tr>\n",
       "    <tr>\n",
       "      <th>646</th>\n",
       "      <td>January 11, 2004 5:47AM</td>\n",
       "      <td>kdshapiro</td>\n",
       "      <td>\"others don't have much but put all their cash...</td>\n",
       "    </tr>\n",
       "    <tr>\n",
       "      <th>647</th>\n",
       "      <td>January 15, 2004 7:58AM</td>\n",
       "      <td>mohatu</td>\n",
       "      <td>What a rhetorical question... Of course, it's ...</td>\n",
       "    </tr>\n",
       "    <tr>\n",
       "      <th>648</th>\n",
       "      <td>January 15, 2004 8:33AM</td>\n",
       "      <td>kdshapiro</td>\n",
       "      <td>\"What a rhetorical question... Of course, it's...</td>\n",
       "    </tr>\n",
       "    <tr>\n",
       "      <th>649</th>\n",
       "      <td>January 15, 2004 8:46AM</td>\n",
       "      <td>shipo</td>\n",
       "      <td>I'm hoping to be old, rich, healthy, driving a...</td>\n",
       "    </tr>\n",
       "  </tbody>\n",
       "</table>\n",
       "<p>650 rows × 3 columns</p>\n",
       "</div>"
      ],
      "text/plain": [
       "                         date         userid  \\\n",
       "0       March 24, 2002 9:54PM          merc1   \n",
       "1      March 24, 2002 11:06PM         fredvh   \n",
       "2       March 25, 2002 9:02AM  blueguydotcom   \n",
       "3       March 25, 2002 3:04PM    hungrywhale   \n",
       "4       March 25, 2002 4:44PM           riez   \n",
       "..                        ...            ...   \n",
       "645  January 10, 2004 12:33PM       saugatak   \n",
       "646   January 11, 2004 5:47AM      kdshapiro   \n",
       "647   January 15, 2004 7:58AM         mohatu   \n",
       "648   January 15, 2004 8:33AM      kdshapiro   \n",
       "649   January 15, 2004 8:46AM          shipo   \n",
       "\n",
       "                                               comment  \n",
       "0    I personally think that with a few tweaks the ...  \n",
       "1    I am debating a new purchase and these two are...  \n",
       "2    Great handling, RWD, excellent engine and the ...  \n",
       "3    And no manual tranny. That may not matter to y...  \n",
       "4    One beauty of BMW 3 Series is that there are s...  \n",
       "..                                                 ...  \n",
       "645  riez, i agree with you 100%. you can't even ju...  \n",
       "646  \"others don't have much but put all their cash...  \n",
       "647  What a rhetorical question... Of course, it's ...  \n",
       "648  \"What a rhetorical question... Of course, it's...  \n",
       "649  I'm hoping to be old, rich, healthy, driving a...  \n",
       "\n",
       "[650 rows x 3 columns]"
      ]
     },
     "execution_count": 106,
     "metadata": {},
     "output_type": "execute_result"
    }
   ],
   "source": [
    "df_out.reset_index(drop=True)"
   ]
  },
  {
   "cell_type": "code",
   "execution_count": null,
   "metadata": {},
   "outputs": [],
   "source": []
  },
  {
   "cell_type": "code",
   "execution_count": null,
   "metadata": {},
   "outputs": [],
   "source": []
  },
  {
   "cell_type": "code",
   "execution_count": null,
   "metadata": {},
   "outputs": [],
   "source": []
  },
  {
   "cell_type": "code",
   "execution_count": null,
   "metadata": {},
   "outputs": [],
   "source": []
  },
  {
   "cell_type": "code",
   "execution_count": null,
   "metadata": {},
   "outputs": [],
   "source": []
  },
  {
   "cell_type": "code",
   "execution_count": 57,
   "metadata": {},
   "outputs": [],
   "source": [
    "button = driver.find_element('xpath','//*[@id=\"PagerBefore\"]/a[9]')\n",
    "button.click()"
   ]
  },
  {
   "cell_type": "code",
   "execution_count": null,
   "metadata": {},
   "outputs": [],
   "source": [
    "//*[@id=\"PagerBefore\"]/a[9]"
   ]
  }
 ],
 "metadata": {
  "kernelspec": {
   "display_name": "Python 3 (ipykernel)",
   "language": "python",
   "name": "python3"
  },
  "language_info": {
   "codemirror_mode": {
    "name": "ipython",
    "version": 3
   },
   "file_extension": ".py",
   "mimetype": "text/x-python",
   "name": "python",
   "nbconvert_exporter": "python",
   "pygments_lexer": "ipython3",
   "version": "3.9.13"
  }
 },
 "nbformat": 4,
 "nbformat_minor": 4
}
